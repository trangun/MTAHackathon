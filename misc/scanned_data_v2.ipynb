{
 "cells": [
  {
   "cell_type": "code",
   "execution_count": 1,
   "metadata": {},
   "outputs": [],
   "source": [
    "import pandas as pd\n",
    "import json\n",
    "import urllib.request\n",
    "from urllib.error import HTTPError"
   ]
  },
  {
   "cell_type": "code",
   "execution_count": 2,
   "metadata": {},
   "outputs": [
    {
     "name": "stderr",
     "output_type": "stream",
     "text": [
      "/anaconda/envs/azureml_py36/lib/python3.6/site-packages/IPython/core/interactiveshell.py:3072: DtypeWarning: Columns (9) have mixed types. Specify dtype option on import or set low_memory=False.\n",
      "  interactivity=interactivity, compiler=compiler, result=result)\n"
     ]
    },
    {
     "data": {
      "text/plain": [
       "141777"
      ]
     },
     "execution_count": 2,
     "metadata": {},
     "output_type": "execute_result"
    }
   ],
   "source": [
    "valid_scan_month03 = pd.read_csv(\"validation-scans_raw-2020-month03.csv\")\n",
    "len(valid_scan_month03)"
   ]
  },
  {
   "cell_type": "code",
   "execution_count": 3,
   "metadata": {},
   "outputs": [
    {
     "data": {
      "text/plain": [
       "141777"
      ]
     },
     "execution_count": 3,
     "metadata": {},
     "output_type": "execute_result"
    }
   ],
   "source": [
    "valid_scan_month04 = pd.read_csv(\"validation-scans_raw-2020-month03.csv\")\n",
    "len(valid_scan_month04)"
   ]
  },
  {
   "cell_type": "code",
   "execution_count": 4,
   "metadata": {},
   "outputs": [
    {
     "data": {
      "text/plain": [
       "283554"
      ]
     },
     "execution_count": 4,
     "metadata": {},
     "output_type": "execute_result"
    }
   ],
   "source": [
    "result = valid_scan_month03.append(valid_scan_month04, sort=False)\n",
    "len(result)"
   ]
  },
  {
   "cell_type": "code",
   "execution_count": 5,
   "metadata": {},
   "outputs": [
    {
     "data": {
      "text/plain": [
       "22128"
      ]
     },
     "execution_count": 5,
     "metadata": {},
     "output_type": "execute_result"
    }
   ],
   "source": [
    "valid_scan_month05 = pd.read_csv(\"validation-scans_raw-2020-month05.csv\")\n",
    "len(valid_scan_month05)"
   ]
  },
  {
   "cell_type": "code",
   "execution_count": 6,
   "metadata": {},
   "outputs": [
    {
     "data": {
      "text/plain": [
       "305682"
      ]
     },
     "execution_count": 6,
     "metadata": {},
     "output_type": "execute_result"
    }
   ],
   "source": [
    "result = result.append(valid_scan_month05, sort=False)\n",
    "len(result)"
   ]
  },
  {
   "cell_type": "code",
   "execution_count": 7,
   "metadata": {},
   "outputs": [
    {
     "data": {
      "text/plain": [
       "45676"
      ]
     },
     "execution_count": 7,
     "metadata": {},
     "output_type": "execute_result"
    }
   ],
   "source": [
    "valid_scan_month06 = pd.read_csv(\"validation-scans_raw-2020-month06.csv\")\n",
    "len(valid_scan_month06)"
   ]
  },
  {
   "cell_type": "code",
   "execution_count": 8,
   "metadata": {},
   "outputs": [
    {
     "data": {
      "text/plain": [
       "351358"
      ]
     },
     "execution_count": 8,
     "metadata": {},
     "output_type": "execute_result"
    }
   ],
   "source": [
    "result = result.append(valid_scan_month06, sort=False)\n",
    "len(result)"
   ]
  },
  {
   "cell_type": "code",
   "execution_count": 9,
   "metadata": {},
   "outputs": [
    {
     "data": {
      "text/plain": [
       "2291"
      ]
     },
     "execution_count": 9,
     "metadata": {},
     "output_type": "execute_result"
    }
   ],
   "source": [
    "valid_scan_month0701 = pd.read_csv(\"validation-scans_raw-2020-07-01.csv\")\n",
    "len(valid_scan_month0701)"
   ]
  },
  {
   "cell_type": "code",
   "execution_count": 10,
   "metadata": {},
   "outputs": [
    {
     "data": {
      "text/plain": [
       "353649"
      ]
     },
     "execution_count": 10,
     "metadata": {},
     "output_type": "execute_result"
    }
   ],
   "source": [
    "result = result.append(valid_scan_month0701, sort=False)\n",
    "len(result)"
   ]
  },
  {
   "cell_type": "code",
   "execution_count": 11,
   "metadata": {},
   "outputs": [
    {
     "data": {
      "text/plain": [
       "2316"
      ]
     },
     "execution_count": 11,
     "metadata": {},
     "output_type": "execute_result"
    }
   ],
   "source": [
    "valid_scan_month0702 = pd.read_csv(\"validation-scans_raw-2020-07-02.csv\")\n",
    "len(valid_scan_month0702)"
   ]
  },
  {
   "cell_type": "code",
   "execution_count": 12,
   "metadata": {},
   "outputs": [
    {
     "data": {
      "text/plain": [
       "355965"
      ]
     },
     "execution_count": 12,
     "metadata": {},
     "output_type": "execute_result"
    }
   ],
   "source": [
    "result = result.append(valid_scan_month0702, sort=False)\n",
    "len(result)"
   ]
  },
  {
   "cell_type": "code",
   "execution_count": 13,
   "metadata": {},
   "outputs": [
    {
     "data": {
      "text/plain": [
       "1989"
      ]
     },
     "execution_count": 13,
     "metadata": {},
     "output_type": "execute_result"
    }
   ],
   "source": [
    "valid_scan_month0703 = pd.read_csv(\"validation-scans_raw-2020-07-03.csv\")\n",
    "len(valid_scan_month0703)"
   ]
  },
  {
   "cell_type": "code",
   "execution_count": 14,
   "metadata": {},
   "outputs": [
    {
     "data": {
      "text/plain": [
       "357954"
      ]
     },
     "execution_count": 14,
     "metadata": {},
     "output_type": "execute_result"
    }
   ],
   "source": [
    "result = result.append(valid_scan_month0703, sort=False)\n",
    "len(result)"
   ]
  },
  {
   "cell_type": "code",
   "execution_count": 15,
   "metadata": {},
   "outputs": [
    {
     "data": {
      "text/plain": [
       "1807"
      ]
     },
     "execution_count": 15,
     "metadata": {},
     "output_type": "execute_result"
    }
   ],
   "source": [
    "valid_scan_month0704 = pd.read_csv(\"validation-scans_raw-2020-07-04.csv\")\n",
    "len(valid_scan_month0704)"
   ]
  },
  {
   "cell_type": "code",
   "execution_count": 16,
   "metadata": {},
   "outputs": [
    {
     "data": {
      "text/plain": [
       "359761"
      ]
     },
     "execution_count": 16,
     "metadata": {},
     "output_type": "execute_result"
    }
   ],
   "source": [
    "result = result.append(valid_scan_month0704, sort=False)\n",
    "len(result)"
   ]
  },
  {
   "cell_type": "code",
   "execution_count": 17,
   "metadata": {},
   "outputs": [
    {
     "data": {
      "text/plain": [
       "2047"
      ]
     },
     "execution_count": 17,
     "metadata": {},
     "output_type": "execute_result"
    }
   ],
   "source": [
    "valid_scan_month0705 = pd.read_csv(\"validation-scans_raw-2020-07-05.csv\")\n",
    "len(valid_scan_month0705)"
   ]
  },
  {
   "cell_type": "code",
   "execution_count": 18,
   "metadata": {},
   "outputs": [
    {
     "data": {
      "text/plain": [
       "361808"
      ]
     },
     "execution_count": 18,
     "metadata": {},
     "output_type": "execute_result"
    }
   ],
   "source": [
    "result = result.append(valid_scan_month0705, sort=False)\n",
    "len(result)"
   ]
  },
  {
   "cell_type": "code",
   "execution_count": 19,
   "metadata": {},
   "outputs": [
    {
     "data": {
      "text/plain": [
       "14923"
      ]
     },
     "execution_count": 19,
     "metadata": {},
     "output_type": "execute_result"
    }
   ],
   "source": [
    "valid_scan_month070612 = pd.read_csv(\"validation-scans_raw-2020-06 to 12.csv\")\n",
    "len(valid_scan_month070612)"
   ]
  },
  {
   "cell_type": "code",
   "execution_count": 20,
   "metadata": {},
   "outputs": [
    {
     "data": {
      "text/plain": [
       "376731"
      ]
     },
     "execution_count": 20,
     "metadata": {},
     "output_type": "execute_result"
    }
   ],
   "source": [
    "result = result.append(valid_scan_month070612, sort=False)\n",
    "len(result)"
   ]
  },
  {
   "cell_type": "code",
   "execution_count": 21,
   "metadata": {},
   "outputs": [],
   "source": [
    "result = result[(result['Ticket Type'] != \"Monthly\") | (result['Ticket Type'] != \"Weekly\") ]"
   ]
  },
  {
   "cell_type": "code",
   "execution_count": 22,
   "metadata": {},
   "outputs": [
    {
     "data": {
      "text/plain": [
       "Scan Timestamp      object\n",
       "Action Name         object\n",
       "Ticket Type         object\n",
       "Ticket Number       object\n",
       "Origin ID           object\n",
       "Origin Name         object\n",
       "Destination ID      object\n",
       "Destination Name    object\n",
       "Expiry Time         object\n",
       "Vehicle ID          object\n",
       "dtype: object"
      ]
     },
     "execution_count": 22,
     "metadata": {},
     "output_type": "execute_result"
    }
   ],
   "source": [
    "result.dtypes\n"
   ]
  },
  {
   "cell_type": "code",
   "execution_count": 23,
   "metadata": {},
   "outputs": [
    {
     "data": {
      "text/html": [
       "<div>\n",
       "<style scoped>\n",
       "    .dataframe tbody tr th:only-of-type {\n",
       "        vertical-align: middle;\n",
       "    }\n",
       "\n",
       "    .dataframe tbody tr th {\n",
       "        vertical-align: top;\n",
       "    }\n",
       "\n",
       "    .dataframe thead th {\n",
       "        text-align: right;\n",
       "    }\n",
       "</style>\n",
       "<table border=\"1\" class=\"dataframe\">\n",
       "  <thead>\n",
       "    <tr style=\"text-align: right;\">\n",
       "      <th></th>\n",
       "      <th>Scan Timestamp</th>\n",
       "      <th>Action Name</th>\n",
       "      <th>Ticket Type</th>\n",
       "      <th>Ticket Number</th>\n",
       "      <th>Origin ID</th>\n",
       "      <th>Origin Name</th>\n",
       "      <th>Destination ID</th>\n",
       "      <th>Destination Name</th>\n",
       "      <th>Expiry Time</th>\n",
       "      <th>Vehicle ID</th>\n",
       "    </tr>\n",
       "  </thead>\n",
       "  <tbody>\n",
       "    <tr>\n",
       "      <th>0</th>\n",
       "      <td>2020-02-16 17:18:00</td>\n",
       "      <td>Final</td>\n",
       "      <td>One Way Senior / Medicare</td>\n",
       "      <td>WTTB5GLT7VF</td>\n",
       "      <td>1</td>\n",
       "      <td>Grand Central Terminal</td>\n",
       "      <td>252</td>\n",
       "      <td>New Haven</td>\n",
       "      <td>4/14/2020 23:59</td>\n",
       "      <td>6546</td>\n",
       "    </tr>\n",
       "    <tr>\n",
       "      <th>1</th>\n",
       "      <td>2020-02-16 17:19:00</td>\n",
       "      <td>Final</td>\n",
       "      <td>One Way Senior / Medicare</td>\n",
       "      <td>WTTDQQPT7VU</td>\n",
       "      <td>1</td>\n",
       "      <td>Grand Central Terminal</td>\n",
       "      <td>234</td>\n",
       "      <td>South Norwalk</td>\n",
       "      <td>4/14/2020 23:59</td>\n",
       "      <td>6546</td>\n",
       "    </tr>\n",
       "    <tr>\n",
       "      <th>2</th>\n",
       "      <td>2020-02-16 17:20:00</td>\n",
       "      <td>Final</td>\n",
       "      <td>One Way Off-Peak</td>\n",
       "      <td>WTTBDK5TXVK</td>\n",
       "      <td>1</td>\n",
       "      <td>Grand Central Terminal</td>\n",
       "      <td>226</td>\n",
       "      <td>Stamford</td>\n",
       "      <td>4/15/2020 23:59</td>\n",
       "      <td>6546</td>\n",
       "    </tr>\n",
       "    <tr>\n",
       "      <th>3</th>\n",
       "      <td>2020-02-16 17:20:00</td>\n",
       "      <td>Mid-Journey</td>\n",
       "      <td>One Way Off-Peak</td>\n",
       "      <td>WTTABERT7VS</td>\n",
       "      <td>278</td>\n",
       "      <td>Bethel</td>\n",
       "      <td>1</td>\n",
       "      <td>Grand Central Terminal</td>\n",
       "      <td>4/14/2020 23:59</td>\n",
       "      <td>6546</td>\n",
       "    </tr>\n",
       "    <tr>\n",
       "      <th>4</th>\n",
       "      <td>2020-02-16 17:20:00</td>\n",
       "      <td>Final</td>\n",
       "      <td>One Way Off-Peak</td>\n",
       "      <td>WTTDG2NTXVT</td>\n",
       "      <td>230</td>\n",
       "      <td>Darien</td>\n",
       "      <td>1</td>\n",
       "      <td>Grand Central Terminal</td>\n",
       "      <td>4/15/2020 23:59</td>\n",
       "      <td>6546</td>\n",
       "    </tr>\n",
       "  </tbody>\n",
       "</table>\n",
       "</div>"
      ],
      "text/plain": [
       "       Scan Timestamp  Action Name                Ticket Type Ticket Number  \\\n",
       "0 2020-02-16 17:18:00        Final  One Way Senior / Medicare   WTTB5GLT7VF   \n",
       "1 2020-02-16 17:19:00        Final  One Way Senior / Medicare   WTTDQQPT7VU   \n",
       "2 2020-02-16 17:20:00        Final           One Way Off-Peak   WTTBDK5TXVK   \n",
       "3 2020-02-16 17:20:00  Mid-Journey           One Way Off-Peak   WTTABERT7VS   \n",
       "4 2020-02-16 17:20:00        Final           One Way Off-Peak   WTTDG2NTXVT   \n",
       "\n",
       "  Origin ID             Origin Name Destination ID        Destination Name  \\\n",
       "0         1  Grand Central Terminal            252               New Haven   \n",
       "1         1  Grand Central Terminal            234           South Norwalk   \n",
       "2         1  Grand Central Terminal            226                Stamford   \n",
       "3       278                  Bethel              1  Grand Central Terminal   \n",
       "4       230                  Darien              1  Grand Central Terminal   \n",
       "\n",
       "       Expiry Time Vehicle ID  \n",
       "0  4/14/2020 23:59       6546  \n",
       "1  4/14/2020 23:59       6546  \n",
       "2  4/15/2020 23:59       6546  \n",
       "3  4/14/2020 23:59       6546  \n",
       "4  4/15/2020 23:59       6546  "
      ]
     },
     "execution_count": 23,
     "metadata": {},
     "output_type": "execute_result"
    }
   ],
   "source": [
    "from datetime import datetime\n",
    "\n",
    "result['Scan Timestamp'] = pd.to_datetime(result['Scan Timestamp'])\n",
    "result.head()"
   ]
  },
  {
   "cell_type": "code",
   "execution_count": 24,
   "metadata": {},
   "outputs": [
    {
     "data": {
      "text/plain": [
       "Scan Timestamp      datetime64[ns]\n",
       "Action Name                 object\n",
       "Ticket Type                 object\n",
       "Ticket Number               object\n",
       "Origin ID                   object\n",
       "Origin Name                 object\n",
       "Destination ID              object\n",
       "Destination Name            object\n",
       "Expiry Time                 object\n",
       "Vehicle ID                  object\n",
       "dtype: object"
      ]
     },
     "execution_count": 24,
     "metadata": {},
     "output_type": "execute_result"
    }
   ],
   "source": [
    "result.dtypes"
   ]
  },
  {
   "cell_type": "code",
   "execution_count": 25,
   "metadata": {},
   "outputs": [],
   "source": [
    "result_group = result.groupby(['Origin Name','Ticket Type' ,pd.Grouper(key='Scan Timestamp', freq='60min')])['Ticket Number'].apply(set).reset_index()"
   ]
  },
  {
   "cell_type": "code",
   "execution_count": 26,
   "metadata": {},
   "outputs": [],
   "source": [
    "result_group['passenger_count'] = result_group['Ticket Number'].str.len()"
   ]
  },
  {
   "cell_type": "code",
   "execution_count": 27,
   "metadata": {},
   "outputs": [],
   "source": [
    "def route(data):\n",
    "    if \"Off-Peak\" in data: \n",
    "        return \"Off Peak\"\n",
    "    elif \"Off Peak\" in data:\n",
    "        return \"Off Peak\"\n",
    "    else:\n",
    "        return \"Peak\""
   ]
  },
  {
   "cell_type": "code",
   "execution_count": null,
   "metadata": {},
   "outputs": [],
   "source": []
  },
  {
   "cell_type": "code",
   "execution_count": 28,
   "metadata": {},
   "outputs": [],
   "source": [
    "result_group['route'] = result_group[\"Ticket Type\"].apply(lambda x : route(x))"
   ]
  },
  {
   "cell_type": "code",
   "execution_count": 29,
   "metadata": {},
   "outputs": [
    {
     "data": {
      "text/html": [
       "<div>\n",
       "<style scoped>\n",
       "    .dataframe tbody tr th:only-of-type {\n",
       "        vertical-align: middle;\n",
       "    }\n",
       "\n",
       "    .dataframe tbody tr th {\n",
       "        vertical-align: top;\n",
       "    }\n",
       "\n",
       "    .dataframe thead th {\n",
       "        text-align: right;\n",
       "    }\n",
       "</style>\n",
       "<table border=\"1\" class=\"dataframe\">\n",
       "  <thead>\n",
       "    <tr style=\"text-align: right;\">\n",
       "      <th></th>\n",
       "      <th>Origin Name</th>\n",
       "      <th>Ticket Type</th>\n",
       "      <th>Scan Timestamp</th>\n",
       "      <th>Ticket Number</th>\n",
       "      <th>passenger_count</th>\n",
       "      <th>route</th>\n",
       "    </tr>\n",
       "  </thead>\n",
       "  <tbody>\n",
       "    <tr>\n",
       "      <th>0</th>\n",
       "      <td>Ansonia</td>\n",
       "      <td>Monthly</td>\n",
       "      <td>2020-03-04 06:00:00</td>\n",
       "      <td>{WTTDBSBWHV3}</td>\n",
       "      <td>1</td>\n",
       "      <td>Peak</td>\n",
       "    </tr>\n",
       "    <tr>\n",
       "      <th>49579</th>\n",
       "      <td>New Rochelle</td>\n",
       "      <td>Weekly</td>\n",
       "      <td>2020-03-07 13:00:00</td>\n",
       "      <td>{WTTB7GLYHV3}</td>\n",
       "      <td>1</td>\n",
       "      <td>Peak</td>\n",
       "    </tr>\n",
       "    <tr>\n",
       "      <th>49580</th>\n",
       "      <td>New Rochelle</td>\n",
       "      <td>Weekly</td>\n",
       "      <td>2020-03-16 06:00:00</td>\n",
       "      <td>{WTTCTNV2HVA}</td>\n",
       "      <td>1</td>\n",
       "      <td>Peak</td>\n",
       "    </tr>\n",
       "    <tr>\n",
       "      <th>49581</th>\n",
       "      <td>New Rochelle</td>\n",
       "      <td>Weekly</td>\n",
       "      <td>2020-03-16 14:00:00</td>\n",
       "      <td>{WTTDVBL27VO}</td>\n",
       "      <td>1</td>\n",
       "      <td>Peak</td>\n",
       "    </tr>\n",
       "    <tr>\n",
       "      <th>49582</th>\n",
       "      <td>New Rochelle</td>\n",
       "      <td>Weekly</td>\n",
       "      <td>2020-03-17 16:00:00</td>\n",
       "      <td>{WTTCCB52PV3}</td>\n",
       "      <td>1</td>\n",
       "      <td>Peak</td>\n",
       "    </tr>\n",
       "    <tr>\n",
       "      <th>49583</th>\n",
       "      <td>New Rochelle</td>\n",
       "      <td>Weekly</td>\n",
       "      <td>2020-05-24 08:00:00</td>\n",
       "      <td>{WTTA67X4XVF}</td>\n",
       "      <td>1</td>\n",
       "      <td>Peak</td>\n",
       "    </tr>\n",
       "    <tr>\n",
       "      <th>49584</th>\n",
       "      <td>New Rochelle</td>\n",
       "      <td>Weekly</td>\n",
       "      <td>2020-05-26 05:00:00</td>\n",
       "      <td>{WTTC4T74XV7}</td>\n",
       "      <td>1</td>\n",
       "      <td>Peak</td>\n",
       "    </tr>\n",
       "    <tr>\n",
       "      <th>49585</th>\n",
       "      <td>New Rochelle</td>\n",
       "      <td>Weekly</td>\n",
       "      <td>2020-05-30 20:00:00</td>\n",
       "      <td>{WTTBDBB4PVS}</td>\n",
       "      <td>1</td>\n",
       "      <td>Peak</td>\n",
       "    </tr>\n",
       "    <tr>\n",
       "      <th>49586</th>\n",
       "      <td>New Rochelle</td>\n",
       "      <td>Weekly</td>\n",
       "      <td>2020-06-04 06:00:00</td>\n",
       "      <td>{WTTBEON4PVQ}</td>\n",
       "      <td>1</td>\n",
       "      <td>Peak</td>\n",
       "    </tr>\n",
       "    <tr>\n",
       "      <th>49587</th>\n",
       "      <td>New Rochelle</td>\n",
       "      <td>Weekly</td>\n",
       "      <td>2020-06-10 17:00:00</td>\n",
       "      <td>{WTTATFT4HVA}</td>\n",
       "      <td>1</td>\n",
       "      <td>Peak</td>\n",
       "    </tr>\n",
       "    <tr>\n",
       "      <th>49588</th>\n",
       "      <td>New Rochelle</td>\n",
       "      <td>Weekly</td>\n",
       "      <td>2020-06-11 06:00:00</td>\n",
       "      <td>{WTTBEFB4HVE}</td>\n",
       "      <td>1</td>\n",
       "      <td>Peak</td>\n",
       "    </tr>\n",
       "    <tr>\n",
       "      <th>49589</th>\n",
       "      <td>New Rochelle</td>\n",
       "      <td>Weekly</td>\n",
       "      <td>2020-06-15 05:00:00</td>\n",
       "      <td>{WTTAIQD77VX}</td>\n",
       "      <td>1</td>\n",
       "      <td>Peak</td>\n",
       "    </tr>\n",
       "    <tr>\n",
       "      <th>49590</th>\n",
       "      <td>New Rochelle</td>\n",
       "      <td>Weekly</td>\n",
       "      <td>2020-06-20 16:00:00</td>\n",
       "      <td>{WTTBUOZ7HV4}</td>\n",
       "      <td>1</td>\n",
       "      <td>Peak</td>\n",
       "    </tr>\n",
       "    <tr>\n",
       "      <th>49592</th>\n",
       "      <td>New Rochelle</td>\n",
       "      <td>Weekly</td>\n",
       "      <td>2020-06-25 16:00:00</td>\n",
       "      <td>{WTTB4F57HV3}</td>\n",
       "      <td>1</td>\n",
       "      <td>Peak</td>\n",
       "    </tr>\n",
       "    <tr>\n",
       "      <th>49578</th>\n",
       "      <td>New Rochelle</td>\n",
       "      <td>Weekly</td>\n",
       "      <td>2020-03-06 17:00:00</td>\n",
       "      <td>{WTTBDBXW7VP}</td>\n",
       "      <td>1</td>\n",
       "      <td>Peak</td>\n",
       "    </tr>\n",
       "    <tr>\n",
       "      <th>49593</th>\n",
       "      <td>New Rochelle</td>\n",
       "      <td>Weekly</td>\n",
       "      <td>2020-07-02 09:00:00</td>\n",
       "      <td>{WTTAB3R6PVH}</td>\n",
       "      <td>1</td>\n",
       "      <td>Peak</td>\n",
       "    </tr>\n",
       "    <tr>\n",
       "      <th>49595</th>\n",
       "      <td>New Rochelle</td>\n",
       "      <td>Weekly</td>\n",
       "      <td>2020-07-12 05:00:00</td>\n",
       "      <td>{WTTAPHJBHV7}</td>\n",
       "      <td>1</td>\n",
       "      <td>Peak</td>\n",
       "    </tr>\n",
       "    <tr>\n",
       "      <th>49598</th>\n",
       "      <td>Noroton Heights</td>\n",
       "      <td>Monthly</td>\n",
       "      <td>2020-03-02 07:00:00</td>\n",
       "      <td>{WTTB3BVWPVS}</td>\n",
       "      <td>1</td>\n",
       "      <td>Peak</td>\n",
       "    </tr>\n",
       "    <tr>\n",
       "      <th>49600</th>\n",
       "      <td>Noroton Heights</td>\n",
       "      <td>Monthly</td>\n",
       "      <td>2020-03-03 06:00:00</td>\n",
       "      <td>{WTTADYLZXVM}</td>\n",
       "      <td>1</td>\n",
       "      <td>Peak</td>\n",
       "    </tr>\n",
       "    <tr>\n",
       "      <th>49601</th>\n",
       "      <td>Noroton Heights</td>\n",
       "      <td>Monthly</td>\n",
       "      <td>2020-03-03 07:00:00</td>\n",
       "      <td>{WTTDVG7Z7VK}</td>\n",
       "      <td>1</td>\n",
       "      <td>Peak</td>\n",
       "    </tr>\n",
       "    <tr>\n",
       "      <th>49607</th>\n",
       "      <td>Noroton Heights</td>\n",
       "      <td>Monthly</td>\n",
       "      <td>2020-03-05 07:00:00</td>\n",
       "      <td>{WTTBNUHZXV3}</td>\n",
       "      <td>1</td>\n",
       "      <td>Peak</td>\n",
       "    </tr>\n",
       "    <tr>\n",
       "      <th>49611</th>\n",
       "      <td>Noroton Heights</td>\n",
       "      <td>Monthly</td>\n",
       "      <td>2020-03-09 07:00:00</td>\n",
       "      <td>{WTTCPDRZXVR}</td>\n",
       "      <td>1</td>\n",
       "      <td>Peak</td>\n",
       "    </tr>\n",
       "    <tr>\n",
       "      <th>49613</th>\n",
       "      <td>Noroton Heights</td>\n",
       "      <td>Monthly</td>\n",
       "      <td>2020-03-09 18:00:00</td>\n",
       "      <td>{WTTBKI7ZXVY}</td>\n",
       "      <td>1</td>\n",
       "      <td>Peak</td>\n",
       "    </tr>\n",
       "    <tr>\n",
       "      <th>49616</th>\n",
       "      <td>Noroton Heights</td>\n",
       "      <td>Monthly</td>\n",
       "      <td>2020-03-12 07:00:00</td>\n",
       "      <td>{WTTCF5TWHVU}</td>\n",
       "      <td>1</td>\n",
       "      <td>Peak</td>\n",
       "    </tr>\n",
       "    <tr>\n",
       "      <th>49617</th>\n",
       "      <td>Noroton Heights</td>\n",
       "      <td>Monthly</td>\n",
       "      <td>2020-03-12 08:00:00</td>\n",
       "      <td>{WTTAFN5ZXVG}</td>\n",
       "      <td>1</td>\n",
       "      <td>Peak</td>\n",
       "    </tr>\n",
       "    <tr>\n",
       "      <th>49618</th>\n",
       "      <td>Noroton Heights</td>\n",
       "      <td>Monthly</td>\n",
       "      <td>2020-03-13 08:00:00</td>\n",
       "      <td>{WTTANJZZPVO}</td>\n",
       "      <td>1</td>\n",
       "      <td>Peak</td>\n",
       "    </tr>\n",
       "    <tr>\n",
       "      <th>49619</th>\n",
       "      <td>Noroton Heights</td>\n",
       "      <td>Monthly</td>\n",
       "      <td>2020-03-17 08:00:00</td>\n",
       "      <td>{WTTD2UPXXVL}</td>\n",
       "      <td>1</td>\n",
       "      <td>Peak</td>\n",
       "    </tr>\n",
       "    <tr>\n",
       "      <th>49620</th>\n",
       "      <td>Noroton Heights</td>\n",
       "      <td>Monthly</td>\n",
       "      <td>2020-03-18 18:00:00</td>\n",
       "      <td>{WTTA7YVZXVL}</td>\n",
       "      <td>1</td>\n",
       "      <td>Peak</td>\n",
       "    </tr>\n",
       "    <tr>\n",
       "      <th>49621</th>\n",
       "      <td>Noroton Heights</td>\n",
       "      <td>Monthly</td>\n",
       "      <td>2020-03-23 18:00:00</td>\n",
       "      <td>{WTTA7YVZXVL}</td>\n",
       "      <td>1</td>\n",
       "      <td>Peak</td>\n",
       "    </tr>\n",
       "    <tr>\n",
       "      <th>49594</th>\n",
       "      <td>New Rochelle</td>\n",
       "      <td>Weekly</td>\n",
       "      <td>2020-07-07 13:00:00</td>\n",
       "      <td>{WTTBPFVBXV2}</td>\n",
       "      <td>1</td>\n",
       "      <td>Peak</td>\n",
       "    </tr>\n",
       "    <tr>\n",
       "      <th>...</th>\n",
       "      <td>...</td>\n",
       "      <td>...</td>\n",
       "      <td>...</td>\n",
       "      <td>...</td>\n",
       "      <td>...</td>\n",
       "      <td>...</td>\n",
       "    </tr>\n",
       "    <tr>\n",
       "      <th>24876</th>\n",
       "      <td>Grand Central Terminal</td>\n",
       "      <td>One Way Peak</td>\n",
       "      <td>2020-03-11 08:00:00</td>\n",
       "      <td>{WTTCEKHYPVL, WTTAOD3Z7VL, WTTCYAPYXVV, WTTCGZ...</td>\n",
       "      <td>273</td>\n",
       "      <td>Peak</td>\n",
       "    </tr>\n",
       "    <tr>\n",
       "      <th>24846</th>\n",
       "      <td>Grand Central Terminal</td>\n",
       "      <td>One Way Peak</td>\n",
       "      <td>2020-03-09 17:00:00</td>\n",
       "      <td>{WTTASUVZXVX, WTTCQAP3PVJ, WTTAVAN3PVM, WTTCRS...</td>\n",
       "      <td>274</td>\n",
       "      <td>Peak</td>\n",
       "    </tr>\n",
       "    <tr>\n",
       "      <th>24866</th>\n",
       "      <td>Grand Central Terminal</td>\n",
       "      <td>One Way Peak</td>\n",
       "      <td>2020-03-10 18:00:00</td>\n",
       "      <td>{WTTCTUL3HVK, WTTA3WH3XVU, WTTDDED3HVD, WTTADF...</td>\n",
       "      <td>302</td>\n",
       "      <td>Peak</td>\n",
       "    </tr>\n",
       "    <tr>\n",
       "      <th>24710</th>\n",
       "      <td>Grand Central Terminal</td>\n",
       "      <td>One Way Peak</td>\n",
       "      <td>2020-03-02 17:00:00</td>\n",
       "      <td>{WTTDRODUXVH, WTTBZQHZ7V6, WTTBEQLWHVG, WTTAH5...</td>\n",
       "      <td>315</td>\n",
       "      <td>Peak</td>\n",
       "    </tr>\n",
       "    <tr>\n",
       "      <th>24847</th>\n",
       "      <td>Grand Central Terminal</td>\n",
       "      <td>One Way Peak</td>\n",
       "      <td>2020-03-09 18:00:00</td>\n",
       "      <td>{WTTD3EXZ7V4, WTTCPTTUXVZ, WTTD7UZ3XVP, WTTBJP...</td>\n",
       "      <td>317</td>\n",
       "      <td>Peak</td>\n",
       "    </tr>\n",
       "    <tr>\n",
       "      <th>22644</th>\n",
       "      <td>Grand Central Terminal</td>\n",
       "      <td>One Way Off-Peak</td>\n",
       "      <td>2020-03-07 10:00:00</td>\n",
       "      <td>{WTTASCVYHVE, WTTCAD5YHVY, WTTD2TDYHVW, WTTAOV...</td>\n",
       "      <td>320</td>\n",
       "      <td>Off Peak</td>\n",
       "    </tr>\n",
       "    <tr>\n",
       "      <th>24855</th>\n",
       "      <td>Grand Central Terminal</td>\n",
       "      <td>One Way Peak</td>\n",
       "      <td>2020-03-10 07:00:00</td>\n",
       "      <td>{WTTBVIV3HVW, WTTBXJN3HV4, WTTB4VTY7VT, WTTBSU...</td>\n",
       "      <td>323</td>\n",
       "      <td>Peak</td>\n",
       "    </tr>\n",
       "    <tr>\n",
       "      <th>24747</th>\n",
       "      <td>Grand Central Terminal</td>\n",
       "      <td>One Way Peak</td>\n",
       "      <td>2020-03-04 17:00:00</td>\n",
       "      <td>{WTTAI37Y7VQ, WTTAMIRY7VF, WTTDNI5Y7VT, WTTBNR...</td>\n",
       "      <td>326</td>\n",
       "      <td>Peak</td>\n",
       "    </tr>\n",
       "    <tr>\n",
       "      <th>24768</th>\n",
       "      <td>Grand Central Terminal</td>\n",
       "      <td>One Way Peak</td>\n",
       "      <td>2020-03-05 17:00:00</td>\n",
       "      <td>{WTTCWAZYXVW, WTTDAARYXVD, WTTA4QTYXVQ, WTTB6E...</td>\n",
       "      <td>335</td>\n",
       "      <td>Peak</td>\n",
       "    </tr>\n",
       "    <tr>\n",
       "      <th>24729</th>\n",
       "      <td>Grand Central Terminal</td>\n",
       "      <td>One Way Peak</td>\n",
       "      <td>2020-03-03 17:00:00</td>\n",
       "      <td>{WTTAEQJZPVO, WTTBIJ3ZPVB, WTTCLTPZPVD, WTTBTQ...</td>\n",
       "      <td>341</td>\n",
       "      <td>Peak</td>\n",
       "    </tr>\n",
       "    <tr>\n",
       "      <th>24711</th>\n",
       "      <td>Grand Central Terminal</td>\n",
       "      <td>One Way Peak</td>\n",
       "      <td>2020-03-02 18:00:00</td>\n",
       "      <td>{WTTAKXNZ7VE, WTTASELZ7V3, WTTASOPWHVL, WTTBPP...</td>\n",
       "      <td>354</td>\n",
       "      <td>Peak</td>\n",
       "    </tr>\n",
       "    <tr>\n",
       "      <th>24836</th>\n",
       "      <td>Grand Central Terminal</td>\n",
       "      <td>One Way Peak</td>\n",
       "      <td>2020-03-09 07:00:00</td>\n",
       "      <td>{WTTC3VF3XV5, WTTCWFX3XVM, WTTD62JWHV7, WTTCIV...</td>\n",
       "      <td>358</td>\n",
       "      <td>Peak</td>\n",
       "    </tr>\n",
       "    <tr>\n",
       "      <th>24730</th>\n",
       "      <td>Grand Central Terminal</td>\n",
       "      <td>One Way Peak</td>\n",
       "      <td>2020-03-03 18:00:00</td>\n",
       "      <td>{WTTDACFZPVJ, WTTCOZXZPVK, WTTBCFXZPVH, WTTDRT...</td>\n",
       "      <td>378</td>\n",
       "      <td>Peak</td>\n",
       "    </tr>\n",
       "    <tr>\n",
       "      <th>24701</th>\n",
       "      <td>Grand Central Terminal</td>\n",
       "      <td>One Way Peak</td>\n",
       "      <td>2020-03-02 08:00:00</td>\n",
       "      <td>{WTTDLHSLXVE, WTTARA5WHVR, WTTBNFRWHV6, WTTCTV...</td>\n",
       "      <td>384</td>\n",
       "      <td>Peak</td>\n",
       "    </tr>\n",
       "    <tr>\n",
       "      <th>24837</th>\n",
       "      <td>Grand Central Terminal</td>\n",
       "      <td>One Way Peak</td>\n",
       "      <td>2020-03-09 08:00:00</td>\n",
       "      <td>{WTTAWYJ3PVT, WTTCSV5R7V4, WTTAS2NWHVS, WTTD4W...</td>\n",
       "      <td>384</td>\n",
       "      <td>Peak</td>\n",
       "    </tr>\n",
       "    <tr>\n",
       "      <th>24748</th>\n",
       "      <td>Grand Central Terminal</td>\n",
       "      <td>One Way Peak</td>\n",
       "      <td>2020-03-04 18:00:00</td>\n",
       "      <td>{WTTB32XY7VH, WTTA32LY7VW, WTTDYPPV7VY, WTTD43...</td>\n",
       "      <td>385</td>\n",
       "      <td>Peak</td>\n",
       "    </tr>\n",
       "    <tr>\n",
       "      <th>24856</th>\n",
       "      <td>Grand Central Terminal</td>\n",
       "      <td>One Way Peak</td>\n",
       "      <td>2020-03-10 08:00:00</td>\n",
       "      <td>{WTTDQKV3HVC, WTTBVLH3HVZ, WTTDJ373HVP, WTTCCC...</td>\n",
       "      <td>394</td>\n",
       "      <td>Peak</td>\n",
       "    </tr>\n",
       "    <tr>\n",
       "      <th>24769</th>\n",
       "      <td>Grand Central Terminal</td>\n",
       "      <td>One Way Peak</td>\n",
       "      <td>2020-03-05 18:00:00</td>\n",
       "      <td>{WTTC2TDYXVZ, WTTAID5YXVV, WTTCKUVY7V4, WTTDWZ...</td>\n",
       "      <td>395</td>\n",
       "      <td>Peak</td>\n",
       "    </tr>\n",
       "    <tr>\n",
       "      <th>24700</th>\n",
       "      <td>Grand Central Terminal</td>\n",
       "      <td>One Way Peak</td>\n",
       "      <td>2020-03-02 07:00:00</td>\n",
       "      <td>{WTTBLNHWHVY, WTTAVCIKPVN, WTTBNJVXXV7, WTTBA4...</td>\n",
       "      <td>414</td>\n",
       "      <td>Peak</td>\n",
       "    </tr>\n",
       "    <tr>\n",
       "      <th>24758</th>\n",
       "      <td>Grand Central Terminal</td>\n",
       "      <td>One Way Peak</td>\n",
       "      <td>2020-03-05 07:00:00</td>\n",
       "      <td>{WTTBKTHY7VF, WTTA3AXY7VL, WTTBKDLY7VC, WTTDDT...</td>\n",
       "      <td>416</td>\n",
       "      <td>Peak</td>\n",
       "    </tr>\n",
       "    <tr>\n",
       "      <th>24759</th>\n",
       "      <td>Grand Central Terminal</td>\n",
       "      <td>One Way Peak</td>\n",
       "      <td>2020-03-05 08:00:00</td>\n",
       "      <td>{WTTBBKNY7VX, WTTBSCVY7VG, WTTB3UXY7VY, WTTCJU...</td>\n",
       "      <td>434</td>\n",
       "      <td>Peak</td>\n",
       "    </tr>\n",
       "    <tr>\n",
       "      <th>24789</th>\n",
       "      <td>Grand Central Terminal</td>\n",
       "      <td>One Way Peak</td>\n",
       "      <td>2020-03-06 17:00:00</td>\n",
       "      <td>{WTTBYXRYPV4, WTTCGZXYHVO, WTTBSZTYHV3, WTTC6W...</td>\n",
       "      <td>454</td>\n",
       "      <td>Peak</td>\n",
       "    </tr>\n",
       "    <tr>\n",
       "      <th>20972</th>\n",
       "      <td>Grand Central Terminal</td>\n",
       "      <td>Monthly</td>\n",
       "      <td>2020-03-04 06:00:00</td>\n",
       "      <td>{WTTDXCDWHVI, WTTCVVRWPV3, WTTAAKDWHVY, WTTA7F...</td>\n",
       "      <td>463</td>\n",
       "      <td>Peak</td>\n",
       "    </tr>\n",
       "    <tr>\n",
       "      <th>24719</th>\n",
       "      <td>Grand Central Terminal</td>\n",
       "      <td>One Way Peak</td>\n",
       "      <td>2020-03-03 07:00:00</td>\n",
       "      <td>{WTTDAYNZXVR, WTTBCXVZ7VW, WTTC72YHPV3, WTTBUA...</td>\n",
       "      <td>465</td>\n",
       "      <td>Peak</td>\n",
       "    </tr>\n",
       "    <tr>\n",
       "      <th>24737</th>\n",
       "      <td>Grand Central Terminal</td>\n",
       "      <td>One Way Peak</td>\n",
       "      <td>2020-03-04 07:00:00</td>\n",
       "      <td>{WTTA3OHZPVW, WTTBRJW7XVB, WTTBYFLZPVZ, WTTBAD...</td>\n",
       "      <td>467</td>\n",
       "      <td>Peak</td>\n",
       "    </tr>\n",
       "    <tr>\n",
       "      <th>24790</th>\n",
       "      <td>Grand Central Terminal</td>\n",
       "      <td>One Way Peak</td>\n",
       "      <td>2020-03-06 18:00:00</td>\n",
       "      <td>{WTTBUYHYHVI, WTTDJWTYPVK, WTTC5YBYHV7, WTTDD3...</td>\n",
       "      <td>481</td>\n",
       "      <td>Peak</td>\n",
       "    </tr>\n",
       "    <tr>\n",
       "      <th>24720</th>\n",
       "      <td>Grand Central Terminal</td>\n",
       "      <td>One Way Peak</td>\n",
       "      <td>2020-03-03 08:00:00</td>\n",
       "      <td>{WTTDTCHZXVS, WTTC7XZZXVR, WTTBAV7ZXV6, WTTAN5...</td>\n",
       "      <td>517</td>\n",
       "      <td>Peak</td>\n",
       "    </tr>\n",
       "    <tr>\n",
       "      <th>24738</th>\n",
       "      <td>Grand Central Terminal</td>\n",
       "      <td>One Way Peak</td>\n",
       "      <td>2020-03-04 08:00:00</td>\n",
       "      <td>{WTTAW6IWXVO, WTTD3H5U7VR, WTTBOPLZHVB, WTTBDF...</td>\n",
       "      <td>558</td>\n",
       "      <td>Peak</td>\n",
       "    </tr>\n",
       "    <tr>\n",
       "      <th>20974</th>\n",
       "      <td>Grand Central Terminal</td>\n",
       "      <td>Monthly</td>\n",
       "      <td>2020-03-04 08:00:00</td>\n",
       "      <td>{WTTAVSRWHV4, WTTBZQ7WPVE, WTTDCXXZPVM, WTTADQ...</td>\n",
       "      <td>724</td>\n",
       "      <td>Peak</td>\n",
       "    </tr>\n",
       "    <tr>\n",
       "      <th>20973</th>\n",
       "      <td>Grand Central Terminal</td>\n",
       "      <td>Monthly</td>\n",
       "      <td>2020-03-04 07:00:00</td>\n",
       "      <td>{WTTBPCFZXVO, WTTBIDRWPVE, WTTACXDWXVM, WTTAY3...</td>\n",
       "      <td>855</td>\n",
       "      <td>Peak</td>\n",
       "    </tr>\n",
       "  </tbody>\n",
       "</table>\n",
       "<p>82245 rows × 6 columns</p>\n",
       "</div>"
      ],
      "text/plain": [
       "                  Origin Name       Ticket Type      Scan Timestamp  \\\n",
       "0                     Ansonia           Monthly 2020-03-04 06:00:00   \n",
       "49579            New Rochelle            Weekly 2020-03-07 13:00:00   \n",
       "49580            New Rochelle            Weekly 2020-03-16 06:00:00   \n",
       "49581            New Rochelle            Weekly 2020-03-16 14:00:00   \n",
       "49582            New Rochelle            Weekly 2020-03-17 16:00:00   \n",
       "49583            New Rochelle            Weekly 2020-05-24 08:00:00   \n",
       "49584            New Rochelle            Weekly 2020-05-26 05:00:00   \n",
       "49585            New Rochelle            Weekly 2020-05-30 20:00:00   \n",
       "49586            New Rochelle            Weekly 2020-06-04 06:00:00   \n",
       "49587            New Rochelle            Weekly 2020-06-10 17:00:00   \n",
       "49588            New Rochelle            Weekly 2020-06-11 06:00:00   \n",
       "49589            New Rochelle            Weekly 2020-06-15 05:00:00   \n",
       "49590            New Rochelle            Weekly 2020-06-20 16:00:00   \n",
       "49592            New Rochelle            Weekly 2020-06-25 16:00:00   \n",
       "49578            New Rochelle            Weekly 2020-03-06 17:00:00   \n",
       "49593            New Rochelle            Weekly 2020-07-02 09:00:00   \n",
       "49595            New Rochelle            Weekly 2020-07-12 05:00:00   \n",
       "49598         Noroton Heights           Monthly 2020-03-02 07:00:00   \n",
       "49600         Noroton Heights           Monthly 2020-03-03 06:00:00   \n",
       "49601         Noroton Heights           Monthly 2020-03-03 07:00:00   \n",
       "49607         Noroton Heights           Monthly 2020-03-05 07:00:00   \n",
       "49611         Noroton Heights           Monthly 2020-03-09 07:00:00   \n",
       "49613         Noroton Heights           Monthly 2020-03-09 18:00:00   \n",
       "49616         Noroton Heights           Monthly 2020-03-12 07:00:00   \n",
       "49617         Noroton Heights           Monthly 2020-03-12 08:00:00   \n",
       "49618         Noroton Heights           Monthly 2020-03-13 08:00:00   \n",
       "49619         Noroton Heights           Monthly 2020-03-17 08:00:00   \n",
       "49620         Noroton Heights           Monthly 2020-03-18 18:00:00   \n",
       "49621         Noroton Heights           Monthly 2020-03-23 18:00:00   \n",
       "49594            New Rochelle            Weekly 2020-07-07 13:00:00   \n",
       "...                       ...               ...                 ...   \n",
       "24876  Grand Central Terminal      One Way Peak 2020-03-11 08:00:00   \n",
       "24846  Grand Central Terminal      One Way Peak 2020-03-09 17:00:00   \n",
       "24866  Grand Central Terminal      One Way Peak 2020-03-10 18:00:00   \n",
       "24710  Grand Central Terminal      One Way Peak 2020-03-02 17:00:00   \n",
       "24847  Grand Central Terminal      One Way Peak 2020-03-09 18:00:00   \n",
       "22644  Grand Central Terminal  One Way Off-Peak 2020-03-07 10:00:00   \n",
       "24855  Grand Central Terminal      One Way Peak 2020-03-10 07:00:00   \n",
       "24747  Grand Central Terminal      One Way Peak 2020-03-04 17:00:00   \n",
       "24768  Grand Central Terminal      One Way Peak 2020-03-05 17:00:00   \n",
       "24729  Grand Central Terminal      One Way Peak 2020-03-03 17:00:00   \n",
       "24711  Grand Central Terminal      One Way Peak 2020-03-02 18:00:00   \n",
       "24836  Grand Central Terminal      One Way Peak 2020-03-09 07:00:00   \n",
       "24730  Grand Central Terminal      One Way Peak 2020-03-03 18:00:00   \n",
       "24701  Grand Central Terminal      One Way Peak 2020-03-02 08:00:00   \n",
       "24837  Grand Central Terminal      One Way Peak 2020-03-09 08:00:00   \n",
       "24748  Grand Central Terminal      One Way Peak 2020-03-04 18:00:00   \n",
       "24856  Grand Central Terminal      One Way Peak 2020-03-10 08:00:00   \n",
       "24769  Grand Central Terminal      One Way Peak 2020-03-05 18:00:00   \n",
       "24700  Grand Central Terminal      One Way Peak 2020-03-02 07:00:00   \n",
       "24758  Grand Central Terminal      One Way Peak 2020-03-05 07:00:00   \n",
       "24759  Grand Central Terminal      One Way Peak 2020-03-05 08:00:00   \n",
       "24789  Grand Central Terminal      One Way Peak 2020-03-06 17:00:00   \n",
       "20972  Grand Central Terminal           Monthly 2020-03-04 06:00:00   \n",
       "24719  Grand Central Terminal      One Way Peak 2020-03-03 07:00:00   \n",
       "24737  Grand Central Terminal      One Way Peak 2020-03-04 07:00:00   \n",
       "24790  Grand Central Terminal      One Way Peak 2020-03-06 18:00:00   \n",
       "24720  Grand Central Terminal      One Way Peak 2020-03-03 08:00:00   \n",
       "24738  Grand Central Terminal      One Way Peak 2020-03-04 08:00:00   \n",
       "20974  Grand Central Terminal           Monthly 2020-03-04 08:00:00   \n",
       "20973  Grand Central Terminal           Monthly 2020-03-04 07:00:00   \n",
       "\n",
       "                                           Ticket Number  passenger_count  \\\n",
       "0                                          {WTTDBSBWHV3}                1   \n",
       "49579                                      {WTTB7GLYHV3}                1   \n",
       "49580                                      {WTTCTNV2HVA}                1   \n",
       "49581                                      {WTTDVBL27VO}                1   \n",
       "49582                                      {WTTCCB52PV3}                1   \n",
       "49583                                      {WTTA67X4XVF}                1   \n",
       "49584                                      {WTTC4T74XV7}                1   \n",
       "49585                                      {WTTBDBB4PVS}                1   \n",
       "49586                                      {WTTBEON4PVQ}                1   \n",
       "49587                                      {WTTATFT4HVA}                1   \n",
       "49588                                      {WTTBEFB4HVE}                1   \n",
       "49589                                      {WTTAIQD77VX}                1   \n",
       "49590                                      {WTTBUOZ7HV4}                1   \n",
       "49592                                      {WTTB4F57HV3}                1   \n",
       "49578                                      {WTTBDBXW7VP}                1   \n",
       "49593                                      {WTTAB3R6PVH}                1   \n",
       "49595                                      {WTTAPHJBHV7}                1   \n",
       "49598                                      {WTTB3BVWPVS}                1   \n",
       "49600                                      {WTTADYLZXVM}                1   \n",
       "49601                                      {WTTDVG7Z7VK}                1   \n",
       "49607                                      {WTTBNUHZXV3}                1   \n",
       "49611                                      {WTTCPDRZXVR}                1   \n",
       "49613                                      {WTTBKI7ZXVY}                1   \n",
       "49616                                      {WTTCF5TWHVU}                1   \n",
       "49617                                      {WTTAFN5ZXVG}                1   \n",
       "49618                                      {WTTANJZZPVO}                1   \n",
       "49619                                      {WTTD2UPXXVL}                1   \n",
       "49620                                      {WTTA7YVZXVL}                1   \n",
       "49621                                      {WTTA7YVZXVL}                1   \n",
       "49594                                      {WTTBPFVBXV2}                1   \n",
       "...                                                  ...              ...   \n",
       "24876  {WTTCEKHYPVL, WTTAOD3Z7VL, WTTCYAPYXVV, WTTCGZ...              273   \n",
       "24846  {WTTASUVZXVX, WTTCQAP3PVJ, WTTAVAN3PVM, WTTCRS...              274   \n",
       "24866  {WTTCTUL3HVK, WTTA3WH3XVU, WTTDDED3HVD, WTTADF...              302   \n",
       "24710  {WTTDRODUXVH, WTTBZQHZ7V6, WTTBEQLWHVG, WTTAH5...              315   \n",
       "24847  {WTTD3EXZ7V4, WTTCPTTUXVZ, WTTD7UZ3XVP, WTTBJP...              317   \n",
       "22644  {WTTASCVYHVE, WTTCAD5YHVY, WTTD2TDYHVW, WTTAOV...              320   \n",
       "24855  {WTTBVIV3HVW, WTTBXJN3HV4, WTTB4VTY7VT, WTTBSU...              323   \n",
       "24747  {WTTAI37Y7VQ, WTTAMIRY7VF, WTTDNI5Y7VT, WTTBNR...              326   \n",
       "24768  {WTTCWAZYXVW, WTTDAARYXVD, WTTA4QTYXVQ, WTTB6E...              335   \n",
       "24729  {WTTAEQJZPVO, WTTBIJ3ZPVB, WTTCLTPZPVD, WTTBTQ...              341   \n",
       "24711  {WTTAKXNZ7VE, WTTASELZ7V3, WTTASOPWHVL, WTTBPP...              354   \n",
       "24836  {WTTC3VF3XV5, WTTCWFX3XVM, WTTD62JWHV7, WTTCIV...              358   \n",
       "24730  {WTTDACFZPVJ, WTTCOZXZPVK, WTTBCFXZPVH, WTTDRT...              378   \n",
       "24701  {WTTDLHSLXVE, WTTARA5WHVR, WTTBNFRWHV6, WTTCTV...              384   \n",
       "24837  {WTTAWYJ3PVT, WTTCSV5R7V4, WTTAS2NWHVS, WTTD4W...              384   \n",
       "24748  {WTTB32XY7VH, WTTA32LY7VW, WTTDYPPV7VY, WTTD43...              385   \n",
       "24856  {WTTDQKV3HVC, WTTBVLH3HVZ, WTTDJ373HVP, WTTCCC...              394   \n",
       "24769  {WTTC2TDYXVZ, WTTAID5YXVV, WTTCKUVY7V4, WTTDWZ...              395   \n",
       "24700  {WTTBLNHWHVY, WTTAVCIKPVN, WTTBNJVXXV7, WTTBA4...              414   \n",
       "24758  {WTTBKTHY7VF, WTTA3AXY7VL, WTTBKDLY7VC, WTTDDT...              416   \n",
       "24759  {WTTBBKNY7VX, WTTBSCVY7VG, WTTB3UXY7VY, WTTCJU...              434   \n",
       "24789  {WTTBYXRYPV4, WTTCGZXYHVO, WTTBSZTYHV3, WTTC6W...              454   \n",
       "20972  {WTTDXCDWHVI, WTTCVVRWPV3, WTTAAKDWHVY, WTTA7F...              463   \n",
       "24719  {WTTDAYNZXVR, WTTBCXVZ7VW, WTTC72YHPV3, WTTBUA...              465   \n",
       "24737  {WTTA3OHZPVW, WTTBRJW7XVB, WTTBYFLZPVZ, WTTBAD...              467   \n",
       "24790  {WTTBUYHYHVI, WTTDJWTYPVK, WTTC5YBYHV7, WTTDD3...              481   \n",
       "24720  {WTTDTCHZXVS, WTTC7XZZXVR, WTTBAV7ZXV6, WTTAN5...              517   \n",
       "24738  {WTTAW6IWXVO, WTTD3H5U7VR, WTTBOPLZHVB, WTTBDF...              558   \n",
       "20974  {WTTAVSRWHV4, WTTBZQ7WPVE, WTTDCXXZPVM, WTTADQ...              724   \n",
       "20973  {WTTBPCFZXVO, WTTBIDRWPVE, WTTACXDWXVM, WTTAY3...              855   \n",
       "\n",
       "          route  \n",
       "0          Peak  \n",
       "49579      Peak  \n",
       "49580      Peak  \n",
       "49581      Peak  \n",
       "49582      Peak  \n",
       "49583      Peak  \n",
       "49584      Peak  \n",
       "49585      Peak  \n",
       "49586      Peak  \n",
       "49587      Peak  \n",
       "49588      Peak  \n",
       "49589      Peak  \n",
       "49590      Peak  \n",
       "49592      Peak  \n",
       "49578      Peak  \n",
       "49593      Peak  \n",
       "49595      Peak  \n",
       "49598      Peak  \n",
       "49600      Peak  \n",
       "49601      Peak  \n",
       "49607      Peak  \n",
       "49611      Peak  \n",
       "49613      Peak  \n",
       "49616      Peak  \n",
       "49617      Peak  \n",
       "49618      Peak  \n",
       "49619      Peak  \n",
       "49620      Peak  \n",
       "49621      Peak  \n",
       "49594      Peak  \n",
       "...         ...  \n",
       "24876      Peak  \n",
       "24846      Peak  \n",
       "24866      Peak  \n",
       "24710      Peak  \n",
       "24847      Peak  \n",
       "22644  Off Peak  \n",
       "24855      Peak  \n",
       "24747      Peak  \n",
       "24768      Peak  \n",
       "24729      Peak  \n",
       "24711      Peak  \n",
       "24836      Peak  \n",
       "24730      Peak  \n",
       "24701      Peak  \n",
       "24837      Peak  \n",
       "24748      Peak  \n",
       "24856      Peak  \n",
       "24769      Peak  \n",
       "24700      Peak  \n",
       "24758      Peak  \n",
       "24759      Peak  \n",
       "24789      Peak  \n",
       "20972      Peak  \n",
       "24719      Peak  \n",
       "24737      Peak  \n",
       "24790      Peak  \n",
       "24720      Peak  \n",
       "24738      Peak  \n",
       "20974      Peak  \n",
       "20973      Peak  \n",
       "\n",
       "[82245 rows x 6 columns]"
      ]
     },
     "execution_count": 29,
     "metadata": {},
     "output_type": "execute_result"
    }
   ],
   "source": [
    "result_group.sort_values(\"passenger_count\")"
   ]
  },
  {
   "cell_type": "code",
   "execution_count": 30,
   "metadata": {},
   "outputs": [],
   "source": [
    "result_group = result_group.drop(columns  = [\"Ticket Type\",\"Ticket Number\"])"
   ]
  },
  {
   "cell_type": "code",
   "execution_count": 31,
   "metadata": {},
   "outputs": [],
   "source": [
    "result_group.to_csv(\"final_output.csv\")\n"
   ]
  },
  {
   "cell_type": "code",
   "execution_count": 32,
   "metadata": {},
   "outputs": [],
   "source": [
    "import matplotlib.pyplot as plt"
   ]
  },
  {
   "cell_type": "code",
   "execution_count": 38,
   "metadata": {},
   "outputs": [],
   "source": [
    "result_group['datetime'] = pd.to_datetime(result_group['Scan Timestamp'])"
   ]
  },
  {
   "cell_type": "code",
   "execution_count": 40,
   "metadata": {},
   "outputs": [],
   "source": [
    "df = result_group[(result_group[\"Origin Name\"] == 'Grand Central Terminal')][['datetime','passenger_count']]\n"
   ]
  },
  {
   "cell_type": "code",
   "execution_count": 41,
   "metadata": {},
   "outputs": [],
   "source": [
    "df.set_index('datetime',inplace = True)"
   ]
  },
  {
   "cell_type": "code",
   "execution_count": 44,
   "metadata": {},
   "outputs": [],
   "source": [
    "df = df.groupby('datetime').agg({'passenger_count':'sum'})"
   ]
  },
  {
   "cell_type": "code",
   "execution_count": 45,
   "metadata": {},
   "outputs": [],
   "source": [
    "# plt.figure(figsize=(30,15))\n",
    "# df[df['datetime'] > '2020-04-01'].plot()\n"
   ]
  },
  {
   "cell_type": "code",
   "execution_count": 46,
   "metadata": {},
   "outputs": [],
   "source": [
    "df.to_csv(\"final_output3.csv\")"
   ]
  },
  {
   "cell_type": "code",
   "execution_count": 47,
   "metadata": {},
   "outputs": [],
   "source": [
    "df.reset_index(inplace=True)"
   ]
  },
  {
   "cell_type": "code",
   "execution_count": 48,
   "metadata": {},
   "outputs": [],
   "source": [
    "df1 = df[df['datetime'] > '2020-04-01']"
   ]
  },
  {
   "cell_type": "code",
   "execution_count": 49,
   "metadata": {},
   "outputs": [],
   "source": [
    "df1.set_index('datetime',inplace = True)"
   ]
  },
  {
   "cell_type": "code",
   "execution_count": 62,
   "metadata": {},
   "outputs": [
    {
     "data": {
      "text/plain": [
       "Text(0.5, 1.0, 'Number of Passengers Leaving Grand Central During Peak')"
      ]
     },
     "execution_count": 62,
     "metadata": {},
     "output_type": "execute_result"
    },
    {
     "data": {
      "image/png": "[encoded data removed]",
      "text/plain": [
       "<Figure size 2160x1080 with 1 Axes>"
      ]
     },
     "metadata": {
      "needs_background": "light"
     },
     "output_type": "display_data"
    }
   ],
   "source": [
    "\n",
    "ax = df1.plot(figsize =(30, 15), legend=False,color='#4f8a96')\n",
    "ax.set_xlabel('Date', size=20)\n",
    "ax.set_ylabel('Passenger Count', size =20)\n",
    "ax.set_title(\"Number of Passengers Leaving Grand Central During Peak\", size= 20)"
   ]
  },
  {
   "cell_type": "code",
   "execution_count": 63,
   "metadata": {},
   "outputs": [],
   "source": [
    "fig = ax.get_figure()\n",
    "fig.savefig(\"GCT_peak.png\")"
   ]
  },
  {
   "cell_type": "code",
   "execution_count": null,
   "metadata": {},
   "outputs": [],
   "source": []
  }
 ],
 "metadata": {
  "kernelspec": {
   "display_name": "Python 3.6 - AzureML",
   "language": "python",
   "name": "python3-azureml"
  },
  "language_info": {
   "codemirror_mode": {
    "name": "ipython",
    "version": 3
   },
   "file_extension": ".py",
   "mimetype": "text/x-python",
   "name": "python",
   "nbconvert_exporter": "python",
   "pygments_lexer": "ipython3",
   "version": "3.6.9"
  }
 },
 "nbformat": 4,
 "nbformat_minor": 4
}
